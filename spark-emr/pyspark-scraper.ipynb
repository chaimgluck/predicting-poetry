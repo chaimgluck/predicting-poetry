{
 "cells": [
  {
   "cell_type": "code",
   "execution_count": 8,
   "metadata": {
    "collapsed": true
   },
   "outputs": [],
   "source": [
    "# Imports.\n",
    "from bs4 import BeautifulSoup\n",
    "import pandas as pd\n",
    "from requests import get\n",
    "from contextlib import closing\n",
    "import re\n",
    "from time import time\n",
    "from pyspark import SparkContext"
   ]
  },
  {
   "cell_type": "code",
   "execution_count": 2,
   "metadata": {},
   "outputs": [
    {
     "data": {
      "text/html": [
       "\n",
       "        <div>\n",
       "            <p><b>SparkContext</b></p>\n",
       "\n",
       "            <p><a href=\"http://ip-172-31-30-134.ec2.internal:4040\">Spark UI</a></p>\n",
       "\n",
       "            <dl>\n",
       "              <dt>Version</dt>\n",
       "                <dd><code>v2.4.0</code></dd>\n",
       "              <dt>Master</dt>\n",
       "                <dd><code>yarn</code></dd>\n",
       "              <dt>AppName</dt>\n",
       "                <dd><code>PySparkShell</code></dd>\n",
       "            </dl>\n",
       "        </div>\n",
       "        "
      ],
      "text/plain": [
       "<SparkContext master=yarn appName=PySparkShell>"
      ]
     },
     "execution_count": 2,
     "metadata": {},
     "output_type": "execute_result"
    }
   ],
   "source": [
    "sc"
   ]
  },
  {
   "cell_type": "code",
   "execution_count": 3,
   "metadata": {
    "collapsed": true
   },
   "outputs": [],
   "source": [
    "# Url contains list of all poets on site.\n",
    "all_poets_page = requests.get('http://www.famouspoetsandpoems.com/poets.html')\n",
    "all_poets_page = BeautifulSoup(all_poets_page.text, 'lxml')\n",
    "\n",
    "def grab_poets_info(all_poets_page):\n",
    "    '''Input - page containing all poet info\n",
    "    Output - list of all poets and their info'''\n",
    "    poets = list()\n",
    "    for tag in all_poets_page.findAll('td'):\n",
    "        if '(' in tag.get_text():\n",
    "            poets.append(tag.get_text().strip())\n",
    "    poets = [x.strip() for x in poets]\n",
    "    poets = poets[3:]\n",
    "    poets = poets[::2]\n",
    "    return poets\n",
    "\n",
    "def extract_poet_info(poet_string):\n",
    "    '''Extract name, number of poems, and years of poet's life from string'''\n",
    "    poet_name = re.findall('^[^\\(]+', poet_string)[0].strip()\n",
    "    number_of_poems = re.findall('\\((.*?)\\)', poet_string)[0]\n",
    "    poet_years = re.findall('\\((.*?)\\)', poet_string)[1]\n",
    "    return poet_name, number_of_poems, poet_years\n",
    "\n",
    "poets = grab_poets_info(all_poets_page)\n",
    "poets_info = map(extract_poet_info, poets)\n",
    "poets_df = pd.DataFrame(poets_info, columns=['name', 'number', 'years'])\n",
    "#poets_df.to_csv('poets_years.csv', index=False)"
   ]
  },
  {
   "cell_type": "code",
   "execution_count": 27,
   "metadata": {
    "collapsed": true
   },
   "outputs": [],
   "source": [
    "def extract_poet_links(all_poets_page):\n",
    "    '''Extract links to each poet's page from page which lists them all'''\n",
    "    poet_links = list()\n",
    "    for tag in all_poets_page.findAll('td'):\n",
    "        try:\n",
    "            link = tag.find('a')['href']\n",
    "            if '/poets/' in link:\n",
    "                poet_links.append(link)\n",
    "        except:\n",
    "            pass\n",
    "    poet_links = list(set(poet_links))\n",
    "    base = 'http://www.famouspoetsandpoems.com'\n",
    "    poet_pages = [base + poet + '/poems' for poet in poet_links]\n",
    "    return poet_pages\n",
    "\n",
    "def get_poems(poet_page):\n",
    "    '''Extract all links to individual poem pages from pages of poets. Takes about 4.5 minutes.'''\n",
    "    poet_page = requests.get(poet_page)\n",
    "    bib_soup = BeautifulSoup(poet_page.text, 'lxml')\n",
    "    \n",
    "    raw_poem_links = list()\n",
    "    for poems in bib_soup.findAll('td'):\n",
    "        try:\n",
    "            poem = poems.find('a')['href']\n",
    "            if '/poems/' in poem:\n",
    "                raw_poem_links.append(poem)\n",
    "        except:\n",
    "            pass     \n",
    "    raw_poem_links = list(set(raw_poem_links))\n",
    "    poem_links = ['http://www.famouspoetsandpoems.com' + poem for poem in raw_poem_links]\n",
    "    return poem_links\n",
    "\n",
    "def scrape_poem(url):\n",
    "    '''Extract one poem, and its poet, from its page'''\n",
    "    with closing(get(url, stream=True)) as resp:\n",
    "        page = resp.text\n",
    "    soup = BeautifulSoup(page, 'lxml')\n",
    "    poem = soup.find('div', style=\"padding-left:14px;padding-top:20px;font-family:Arial;font-size:13px;\")\n",
    "    poem = str(poem)\n",
    "    poem = BeautifulSoup(poem.replace('<br/>', ' ')).get_text().strip()\n",
    "    for tag in soup('span'):\n",
    "        if 'by' in tag.get_text():\n",
    "            poet = tag.get_text().strip()\n",
    "        else:\n",
    "            poet = ''\n",
    "    return (poem, poet)\n",
    "\n",
    "all_poet_pages = extract_poet_links(all_poets_page)"
   ]
  },
  {
   "cell_type": "code",
   "execution_count": 29,
   "metadata": {
    "collapsed": true
   },
   "outputs": [],
   "source": [
    "poets_rdd = sc.parallelize(all_poet_pages, 30)\n",
    "poets_rdd = poets_rdd.flatMap(get_poems)\n",
    "poets_rdd = poets_rdd.repartition(400)\n",
    "poets_rdd = poets_rdd.map(scrape_poem)\n",
    "result = poets_rdd.collect()"
   ]
  },
  {
   "cell_type": "code",
   "execution_count": 30,
   "metadata": {},
   "outputs": [
    {
     "data": {
      "text/plain": [
       "[(u'A new thing, coming forth Don\\u2019t you see it?  Can\\u2019t you see the signs? the Lord doing a new thing,  emerging now In these words, in the story, in the hope of the coming the return of the king fulfillment of prophecy the grace of God revealed Oh a new thing coming Let it come, wash over us joy in the morning!   July 28, 2009 Psalm 92:1-4 Isaiah 43:18-21 Luke 12:54-56 and sermon, \\u201cThe View from Seven Decades: The Power and Danger of Paradigms\\u201d, by the Reverend Huntley Halvorson Suncook United Methodist Church July 19, 2009 and Psalm 100 Luke 4:16-21 Isaiah 43:1-3a Isaiah 43:18-21 and sermon, \\u201cThe Power of Vision\\u201d, by the Reverend Huntley Halvorson, including, The Star Thrower Story by Joel Barker, inspired by the writing of Loren Eiseley, Suncook United Methodist Church July 26, 2009',\n",
       "  u'by Raymond A. Foss'),\n",
       " (u'In challenging times, assurance the loving presence of God fulfillment of his promises comfort in his indwelling a new perspective on life He is with us; He has saved us our walk now with our brother made part of the family of God no trial, no tribulation greater than this eyes to see the new thing coming our future assured by God   July 28, 2009 Psalm 92:1-4 Isaiah 43:18-21 Luke 12:54-56 and sermon, \\u201cThe View from Seven Decades: The Power and Danger of Paradigms\\u201d, by the Reverend Huntley Halvorson Suncook United Methodist Church July 19, 2009 and Psalm 100 Luke 4:16-21 Isaiah 43:1-3a Isaiah 43:18-21 and sermon, \\u201cThe Power of Vision\\u201d, by the Reverend Huntley Halvorson, including, The Star Thrower Story by Joel Barker, inspired by the writing of Loren Eiseley, Suncook United Methodist Church July 26, 2009',\n",
       "  u'by Raymond A. Foss'),\n",
       " (u'Maybe on the mountain by the side of a stream in the woods or desert near the ocean, the sea somewhere away from man finding our wilderness place somewhere to find God  Away from distractions the volume turned low set apart for his calling out of the sheer silence a voice whispers to us only in our wilderness can we truly hear God\\u2019s message for us   June 14, 2010 1 Kings 19:1-15a and http://www.upperroom.org/bookstore/description.asp?item_id=645177&whichBarItem=excerpt&category=&sub_category= Upper Room Disciplines for 2010 for June 14, 2010 to June 20, 2010, \\u201cDivine Communion, Divine Community\\u201d by Karla Kincannon for June 14, 2010, read June 14, 2010   Copyright by Raymond A. Foss, 2000, 2001, 2002, 2003, 2004, 2005, 2006, 2007, 2008, 2009, 2010. Contact me at Ray Foss  for usage.',\n",
       "  u'by Raymond A. Foss'),\n",
       " (u'The words of the scripture,  of the pastor, assuring, reminding not self-made, not even partially God is the actor, the agent creating a new thing.  Not me, not you, God, the creator, ever bringing life a new thing growing coming, bursting forth life, new life, urgent burgeoning into being No matter the present a future assured   July 28, 2009 Psalm 92:1-4 Isaiah 43:18-21 Luke 12:54-56 and sermon, \\u201cThe View from Seven Decades: The Power and Danger of Paradigms\\u201d, by the Reverend Huntley Halvorson Suncook United Methodist Church July 19, 2009 and Psalm 100 Luke 4:16-21 Isaiah 43:1-3a Isaiah 43:18-21 and sermon, \\u201cThe Power of Vision\\u201d, by the Reverend Huntley Halvorson, including, The Star Thrower Story by Joel Barker, inspired by the writing of Loren Eiseley, Suncook United Methodist Church July 26, 2009',\n",
       "  u'by Raymond A. Foss'),\n",
       " (u'Finding, searching discerning our gift the one thing God has for us our special niche our unique bit of service our part of the plan Listen to God\\u2019s calling the stirring deep within follow where God will lead make a difference  where you stand   July 28, 2009 Psalm 92:1-4 Isaiah 43:18-21 Luke 12:54-56 and sermon, \\u201cThe View from Seven Decades: The Power and Danger of Paradigms\\u201d, by the Reverend Huntley Halvorson Suncook United Methodist Church July 19, 2009 and Psalm 100 Luke 4:16-21 Isaiah 43:1-3a Isaiah 43:18-21 and sermon, \\u201cThe Power of Vision\\u201d, by the Reverend Huntley Halvorson, including, The Star Thrower Story by Joel Barker, inspired by the writing of Loren Eiseley, Suncook United Methodist Church July 26, 2009',\n",
       "  u'by Raymond A. Foss'),\n",
       " (u'This people, this nation broken and scattered their home, their land taken faith remaining, deep within them the power of these words, more than comfort assurance, not of their work of their deeds confidence in the love of God his faithfulness forever the abundance of his grace life anew, a new thing coming ever sure of the future a place with our creator   July 28, 2009 Psalm 92:1-4 Isaiah 43:18-21 Luke 12:54-56 and sermon, \\u201cThe View from Seven Decades: The Power and Danger of Paradigms\\u201d, by the Reverend Huntley Halvorson Suncook United Methodist Church July 19, 2009 and Psalm 100 Luke 4:16-21 Isaiah 43:1-3a Isaiah 43:18-21 and sermon, \\u201cThe Power of Vision\\u201d, by the Reverend Huntley Halvorson, including, The Star Thrower Story by Joel Barker, inspired by the writing of Loren Eiseley, Suncook United Methodist Church July 26, 2009',\n",
       "  u'by Raymond A. Foss'),\n",
       " (u'The man sitting, having read the words the prophet revealed, living in this moment not the boy they knew the son of the carpenter claiming his place before the Lord The words of the scripture a new thing come, their future assured if they could but believe   July 28, 2009 Psalm 92:1-4 Isaiah 43:18-21 Luke 12:54-56 and sermon, \\u201cThe View from Seven Decades: The Power and Danger of Paradigms\\u201d, by the Reverend Huntley Halvorson Suncook United Methodist Church July 19, 2009 and Psalm 100 Luke 4:16-21 Isaiah 43:1-3a Isaiah 43:18-21 and sermon, \\u201cThe Power of Vision\\u201d, by the Reverend Huntley Halvorson, including, The Star Thrower Story by Joel Barker, inspired by the writing of Loren Eiseley, Suncook United Methodist Church July 26, 2009',\n",
       "  u'by Raymond A. Foss'),\n",
       " (u'As we started, so we finish thanks in the evening for the day just ending grateful for life for God\\u2019s presence beside us  Walking as servants happy in our journey our brother indwelling his spirit living guiding our steps all along the way   June 15, 2010 Psalm 92:1-4 I Thessalonians 5:14-16 Worship Theme: \\u201cIn all things be thankful!\\u201d and sermon, \\u201cWhine Not\\u201d by Reverend Huntley Halvorson http://www.suncookumc.org  Suncook United Methodist Church Suncook, NH June 13, 2010   Copyright by Raymond A. Foss, 2000, 2001, 2002, 2003, 2004, 2005, 2006, 2007, 2008, 2009, 2010. Contact me at Ray Foss  for usage.',\n",
       "  u'by Raymond A. Foss'),\n",
       " (u'The words he shared,  that we may share in his joy But what is his joy, for us to share the love of God, intimately known the whole plan, the way of redemption and a place in heaven when our life\\u2019s journey is done when the end of the age is realized A different, humble, assured perspective walking without a focus  on the things of the earth carrying instead about living walking with a purpose sharing the good news the love of God offered to all abiding with him in the vine,  part of God   May 17, 2009 Psalm 98:4-8 (Call to Worship) 1 John 5:1-5 John 15:11-15 Message for Children by Reverend Huntley Halvorson, sermon, \\u201cFriends\\u201d, by Pastor Ruth L. Foss, and final hymn, \\u201cWhat a Friend We Have in Jesus\\u201d,  United Methodist Hymnal #526 (Sanctifying Grace and Perfecting Grace section), Suncook United Methodist Church Suncook, NH  May 17, 2009',\n",
       "  u'by Raymond A. Foss'),\n",
       " (u'The prayer of Christ offered for the disciples all of us, for all generations praying that our joy, like his own, that our joy may be complete, fully mature, ripe, holy fruits ready for the harvest living, growing, abiding in the vine bearing fruit, realizing the strength the joy in connection,  walking with our brother part of the body of the church the vine, the oneness of God   May 17, 2009 Psalm 98:4-8 (Call to Worship) 1 John 5:1-5 John 15:11-15 Message for Children by Reverend Huntley Halvorson, sermon, \\u201cFriends\\u201d, by Pastor Ruth L. Foss, and final hymn, \\u201cWhat a Friend We Have in Jesus\\u201d,  United Methodist Hymnal #526 (Sanctifying Grace and Perfecting Grace section), Suncook United Methodist Church Suncook, NH  May 17, 2009',\n",
       "  u'by Raymond A. Foss')]"
      ]
     },
     "execution_count": 30,
     "metadata": {},
     "output_type": "execute_result"
    }
   ],
   "source": [
    "result[:10]"
   ]
  },
  {
   "cell_type": "code",
   "execution_count": 31,
   "metadata": {
    "collapsed": true
   },
   "outputs": [],
   "source": [
    "df = pd.DataFrame(result)"
   ]
  },
  {
   "cell_type": "code",
   "execution_count": 34,
   "metadata": {
    "collapsed": true
   },
   "outputs": [],
   "source": [
    "df.to_csv('clean_poems.csv', index=False, encoding='utf-8')"
   ]
  },
  {
   "cell_type": "markdown",
   "metadata": {},
   "source": [
    "# Old way below"
   ]
  },
  {
   "cell_type": "code",
   "execution_count": null,
   "metadata": {
    "collapsed": true
   },
   "outputs": [],
   "source": [
    "# This would take 3-4 hours.\n",
    "start = time()\n",
    "poems_soup = []\n",
    "for link in tqdm(all_poem_links_list, desc='Scrape all poems'):\n",
    "    url = requests.get(link)\n",
    "    soup = BeautifulSoup(url.text, 'lxml')\n",
    "    poem = soup.find('div', style=\"padding-left:14px;padding-top:20px;font-family:Arial;font-size:13px;\")\n",
    "    for tag in soup('span'):\n",
    "        if 'by' in tag.get_text():\n",
    "            poet = tag.get_text().strip()\n",
    "    poems_soup.append([poem, poet])\n",
    "print((time() - start) / 60)\n",
    "\n",
    "## Creating a DataFrame from all the poems and poets.\n",
    "df_all = pd.DataFrame(poems_soup)\n",
    "df_all.to_csv('all_poets.csv')"
   ]
  }
 ],
 "metadata": {
  "kernelspec": {
   "display_name": "Python 2",
   "language": "python",
   "name": "python2"
  },
  "language_info": {
   "codemirror_mode": {
    "name": "ipython",
    "version": 2
   },
   "file_extension": ".py",
   "mimetype": "text/x-python",
   "name": "python",
   "nbconvert_exporter": "python",
   "pygments_lexer": "ipython2",
   "version": "2.7.13"
  },
  "varInspector": {
   "cols": {
    "lenName": 16,
    "lenType": 16,
    "lenVar": 40
   },
   "kernels_config": {
    "python": {
     "delete_cmd_postfix": "",
     "delete_cmd_prefix": "del ",
     "library": "var_list.py",
     "varRefreshCmd": "print(var_dic_list())"
    },
    "r": {
     "delete_cmd_postfix": ") ",
     "delete_cmd_prefix": "rm(",
     "library": "var_list.r",
     "varRefreshCmd": "cat(var_dic_list()) "
    }
   },
   "types_to_exclude": [
    "module",
    "function",
    "builtin_function_or_method",
    "instance",
    "_Feature"
   ],
   "window_display": false
  }
 },
 "nbformat": 4,
 "nbformat_minor": 2
}
